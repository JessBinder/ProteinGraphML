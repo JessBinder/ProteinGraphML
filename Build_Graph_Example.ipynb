{
 "cells": [
  {
   "cell_type": "code",
   "execution_count": 2,
   "metadata": {},
   "outputs": [],
   "source": [
    "from ProteinGraphML.DataAdapter import OlegDB\n",
    "from ProteinGraphML.GraphTools import ProteinDiseaseAssociationGraph\n",
    "\n",
    "# we will create a Protein Disease graph from the DB adapter 'OlegDB'"
   ]
  },
  {
   "cell_type": "code",
   "execution_count": 4,
   "metadata": {},
   "outputs": [],
   "source": [
    "dbAdapter = OlegDB()\n",
    "\n",
    "proteinGraph = ProteinDiseaseAssociationGraph(dbAdapter)\n",
    "\n",
    "# we construct a base map of protein to disease just by creating the ProteinDiseaseAssociationGraph"
   ]
  },
  {
   "cell_type": "code",
   "execution_count": 6,
   "metadata": {},
   "outputs": [
    {
     "data": {
      "text/plain": [
       "5213"
      ]
     },
     "execution_count": 6,
     "metadata": {},
     "output_type": "execute_result"
    }
   ],
   "source": [
    "# the 'ProteinDiseaseAssociationGraph' object has helper methods, but we can also access the networkx graph directly it is created with:\n",
    "len(proteinGraph.graph.nodes)\n"
   ]
  },
  {
   "cell_type": "code",
   "execution_count": 4,
   "metadata": {},
   "outputs": [],
   "source": [
    "# we will want to filter by the proteins we are interested in, this list comes from a DB adapter, but any set will do\n",
    "\n",
    "proteins = dbAdapter.loadTotalProteinList().protein_id\n",
    "filterByProteins = set(proteins) # NOTE this is just a list of protein IDS"
   ]
  },
  {
   "cell_type": "code",
   "execution_count": 5,
   "metadata": {},
   "outputs": [],
   "source": [
    "'''\n",
    "using .attach will add edges from a DB as defined by the adapter, \n",
    "with this method we can create a graph of data, which can itself be saved, prevents the need from \n",
    "rebuilding as we work on different diseases, perform analysis\n",
    "\n",
    "# NOTE THIS CELL TAKES A FEW MINUTES #\n",
    "\n",
    "'''\n",
    "proteinGraph.attach(dbAdapter.loadPPI(filterByProteins))\n",
    "proteinGraph.attach(dbAdapter.loadKegg(filterByProteins)) \n",
    "proteinGraph.attach(dbAdapter.loadReactome(filterByProteins)) \n",
    "proteinGraph.attach(dbAdapter.loadInterpro(filterByProteins))\n",
    "proteinGraph.attach(dbAdapter.loadGo(filterByProteins))\n",
    "\n",
    "#we've also filter by proteins we care about, in this case it is our original list \n",
    "\n",
    "\n"
   ]
  },
  {
   "cell_type": "code",
   "execution_count": 7,
   "metadata": {},
   "outputs": [
    {
     "name": "stdout",
     "output_type": "stream",
     "text": [
      "KEGG 320\n",
      "REACT 2130\n",
      "GO 17531\n",
      "INTERP 14244\n"
     ]
    }
   ],
   "source": [
    "# networkx provides an api we can nodes from \n",
    " #- here i exploit the unique features of each node to count them\n",
    "\n",
    "keggNodes = [g for g in list(proteinGraph.graph.nodes) if isinstance(g,str) and g[0:3] == \"hsa\"] # compute node lists\n",
    "reactome = [r for r in list(proteinGraph.graph.nodes) if isinstance(r,str) and r[0:2] == \"R-\"]\n",
    "goNodes = [go for go in list(proteinGraph.graph.nodes) if isinstance(go,str) and go[0:3] == \"GO:\"]\n",
    "interNodes = [inter for inter in list(proteinGraph.graph.nodes) if isinstance(inter,str) and inter[0:3] == \"IPR\"]\n",
    "\n",
    "# we can get a count of the nodes in the current graph\n",
    "print(\"KEGG\",len(keggNodes))\n",
    "print(\"REACT\",len(reactome))\n",
    "print(\"GO\",len(goNodes))\n",
    "print(\"INTERP\",len(interNodes))"
   ]
  },
  {
   "cell_type": "code",
   "execution_count": 8,
   "metadata": {},
   "outputs": [],
   "source": [
    "# this will save our graph\n",
    "proteinGraph.save(\"CURRENT_GRAPH\")"
   ]
  },
  {
   "cell_type": "code",
   "execution_count": null,
   "metadata": {},
   "outputs": [],
   "source": []
  }
 ],
 "metadata": {
  "kernelspec": {
   "display_name": "Python 3",
   "language": "python",
   "name": "python3"
  },
  "language_info": {
   "codemirror_mode": {
    "name": "ipython",
    "version": 3
   },
   "file_extension": ".py",
   "mimetype": "text/x-python",
   "name": "python",
   "nbconvert_exporter": "python",
   "pygments_lexer": "ipython3",
   "version": "3.7.3"
  }
 },
 "nbformat": 4,
 "nbformat_minor": 2
}
