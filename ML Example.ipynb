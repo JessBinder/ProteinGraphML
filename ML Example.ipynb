{
 "cells": [
  {
   "cell_type": "code",
   "execution_count": 1,
   "metadata": {},
   "outputs": [],
   "source": [
    "### NOTE use the build_graph_example notebook to build your graph first!!! ###"
   ]
  },
  {
   "cell_type": "code",
   "execution_count": 2,
   "metadata": {},
   "outputs": [],
   "source": [
    "# to read our graph directly\n",
    "import networkx as nx\n"
   ]
  },
  {
   "cell_type": "code",
   "execution_count": 3,
   "metadata": {},
   "outputs": [],
   "source": [
    "\n",
    "currentGraph = nx.read_gpickle(\"CURRENT_GRAPH\")\n",
    "\n",
    "# time to build features from the graph! "
   ]
  },
  {
   "cell_type": "code",
   "execution_count": 4,
   "metadata": {},
   "outputs": [],
   "source": [
    "# the objects that we need to build our features:\n",
    "\n",
    "from ProteinGraphML.MLTools.MetapathFeatures import metapathFeatures,\\\n",
    "ProteinInteractionNode,KeggNode,ReactomeNode,GoNode,InterproNode\n",
    "\n",
    "\n",
    "# what did we grab:: \n",
    "\n",
    "# metapathFeatures - the main function that assembles our metapath features\n",
    "\n",
    "\n",
    "# ProteinInteractionNode\n",
    "# KeggNode\n",
    "# ReactomeNode\n",
    "# GoNode\n",
    "# InterproNode\n",
    "\n",
    "# each of these nodes has instructions/function for how to compute their type of metapath,\n",
    "# IE: for ProteinInteractionNode the metapath is P1 <-> P2 -> Disease but for others there is a middle node like: \n",
    "# P1 -> KEGG_pathway <- P2 -> Disease\n"
   ]
  },
  {
   "cell_type": "code",
   "execution_count": 5,
   "metadata": {},
   "outputs": [],
   "source": [
    "# features we want, and a disease we want to analyse  \n",
    "# may change \"ProteinInteractionNode\" .. to \"DattrainDataaType\"... these aren't really \"nodes\"\n",
    "nodes = [ProteinInteractionNode,KeggNode,ReactomeNode,GoNode,InterproNode]\n",
    "Disease = \"MP_0000184\""
   ]
  },
  {
   "cell_type": "code",
   "execution_count": 6,
   "metadata": {},
   "outputs": [
    {
     "name": "stdout",
     "output_type": "stream",
     "text": [
      "(14177, 139)\n",
      "7.794653811288299e-11\n",
      "(5286, 105)\n",
      "-3.05044878246008e-11\n",
      "(10452, 488)\n",
      "1.0677236872425055e-10\n",
      "(18902, 1595)\n",
      "3.984723662142642e-11\n",
      "(10093, 452)\n",
      "-9.779554943634139e-11\n",
      "2517\n"
     ]
    }
   ],
   "source": [
    "# empty array is static features resolving bugs and then will add to this function\n",
    "\n",
    "\n",
    "'''\n",
    "we are ready to make data!... this will build a pandas frame with labels, \n",
    "labeling metapaths where a protein is connected through another\n",
    "\n",
    "# NOTE::\n",
    "label is true if protein on the edge of the path to a disease has a true association to it\n",
    "and label is false, if protein on the edge of path to the disease has a false association to it \n",
    "\n",
    "\n",
    "# this function will build training set by default, but can build test set as well with test=True\n",
    "'''\n",
    "trainData = metapathFeatures(Disease,currentGraph,nodes,[]).fillna(0)\n"
   ]
  },
  {
   "cell_type": "code",
   "execution_count": 7,
   "metadata": {},
   "outputs": [
    {
     "data": {
      "text/plain": [
       "(2517, 2780)"
      ]
     },
     "execution_count": 7,
     "metadata": {},
     "output_type": "execute_result"
    }
   ],
   "source": [
    "trainData.shape # looks good "
   ]
  },
  {
   "cell_type": "code",
   "execution_count": 8,
   "metadata": {},
   "outputs": [
    {
     "data": {
      "text/plain": [
       "\"\\nd - is now our data set, if we split it we get new BinaryLabel objects, and the ProteinGraphML.MLTools.Models\\ncan parse out the labels / features automatically\\n\\nif the label isn't Y, you can use: \\n\\nd.loadData(trainData,labelColumn='mylabel')\\n\\n\""
      ]
     },
     "execution_count": 8,
     "metadata": {},
     "output_type": "execute_result"
    }
   ],
   "source": [
    "\n",
    "from ProteinGraphML.MLTools.Data import BinaryLabel\n",
    "\n",
    "# binary label wrapper, means we don't have to worry about anything else... default label value is 'Y' and thats\n",
    "# what label was generated above\n",
    "\n",
    "# the object is designed to manage our data, it's split, separating features/label etc...\n",
    "d = BinaryLabel()\n",
    "d.loadData(trainData)\n",
    "\n",
    "'''\n",
    "d - is now our data set, if we split it we get new BinaryLabel objects, and the ProteinGraphML.MLTools.Models\n",
    "can parse out the labels / features automatically\n",
    "\n",
    "if the label isn't Y, you can use: \n",
    "\n",
    "d.loadData(trainData,labelColumn='mylabel')\n",
    "\n",
    "'''"
   ]
  },
  {
   "cell_type": "code",
   "execution_count": 9,
   "metadata": {},
   "outputs": [],
   "source": [
    "#READY FOR XGBOOST: Here are some parameters\n",
    "\n",
    "param = {'n_estimators':7,'learning_rate':0.02,'max_depth':7, 'eta':0.1,'subsample':0.9,'silent':0,'min_child_weight':5, 'objective':'binary:logistic'}\n",
    "\n"
   ]
  },
  {
   "cell_type": "code",
   "execution_count": 10,
   "metadata": {},
   "outputs": [],
   "source": [
    "# NOTE!!!! THIS EXAMPLE WON'T SAVE THE MODEL(s) TRAINED !!!  THIS IS JUST TO DEMONSTRATE THE API \n",
    "\n",
    "# you can access the package xgboost directly to save the model using XGBoostModel.m"
   ]
  },
  {
   "cell_type": "code",
   "execution_count": 11,
   "metadata": {},
   "outputs": [
    {
     "name": "stderr",
     "output_type": "stream",
     "text": [
      "/home/byrd106/anaconda3/lib/python3.7/site-packages/xgboost/core.py:587: FutureWarning: Series.base is deprecated and will be removed in a future version\n",
      "  if getattr(data, 'base', None) is not None and \\\n"
     ]
    },
    {
     "name": "stdout",
     "output_type": "stream",
     "text": [
      "('AUCROC', 0.6673600218236379)\n"
     ]
    },
    {
     "name": "stderr",
     "output_type": "stream",
     "text": [
      "/home/byrd106/anaconda3/lib/python3.7/site-packages/xgboost/core.py:587: FutureWarning: Series.base is deprecated and will be removed in a future version\n",
      "  if getattr(data, 'base', None) is not None and \\\n"
     ]
    },
    {
     "name": "stdout",
     "output_type": "stream",
     "text": [
      "('AUCROC', 0.6877170138888888)\n"
     ]
    },
    {
     "name": "stderr",
     "output_type": "stream",
     "text": [
      "/home/byrd106/anaconda3/lib/python3.7/site-packages/xgboost/core.py:587: FutureWarning: Series.base is deprecated and will be removed in a future version\n",
      "  if getattr(data, 'base', None) is not None and \\\n"
     ]
    },
    {
     "name": "stdout",
     "output_type": "stream",
     "text": [
      "('AUCROC', 0.6462794918330309)\n"
     ]
    },
    {
     "name": "stderr",
     "output_type": "stream",
     "text": [
      "/home/byrd106/anaconda3/lib/python3.7/site-packages/xgboost/core.py:587: FutureWarning: Series.base is deprecated and will be removed in a future version\n",
      "  if getattr(data, 'base', None) is not None and \\\n"
     ]
    },
    {
     "name": "stdout",
     "output_type": "stream",
     "text": [
      "('AUCROC', 0.6934341808818796)\n"
     ]
    },
    {
     "name": "stderr",
     "output_type": "stream",
     "text": [
      "/home/byrd106/anaconda3/lib/python3.7/site-packages/xgboost/core.py:587: FutureWarning: Series.base is deprecated and will be removed in a future version\n",
      "  if getattr(data, 'base', None) is not None and \\\n"
     ]
    },
    {
     "name": "stdout",
     "output_type": "stream",
     "text": [
      "('AUCROC', 0.5262875536480687)\n"
     ]
    },
    {
     "name": "stderr",
     "output_type": "stream",
     "text": [
      "/home/byrd106/anaconda3/lib/python3.7/site-packages/xgboost/core.py:587: FutureWarning: Series.base is deprecated and will be removed in a future version\n",
      "  if getattr(data, 'base', None) is not None and \\\n"
     ]
    },
    {
     "name": "stdout",
     "output_type": "stream",
     "text": [
      "('AUCROC', 0.6764161570646926)\n"
     ]
    },
    {
     "name": "stderr",
     "output_type": "stream",
     "text": [
      "/home/byrd106/anaconda3/lib/python3.7/site-packages/xgboost/core.py:587: FutureWarning: Series.base is deprecated and will be removed in a future version\n",
      "  if getattr(data, 'base', None) is not None and \\\n"
     ]
    },
    {
     "name": "stdout",
     "output_type": "stream",
     "text": [
      "('AUCROC', 0.6262431941923775)\n"
     ]
    },
    {
     "name": "stderr",
     "output_type": "stream",
     "text": [
      "/home/byrd106/anaconda3/lib/python3.7/site-packages/xgboost/core.py:587: FutureWarning: Series.base is deprecated and will be removed in a future version\n",
      "  if getattr(data, 'base', None) is not None and \\\n"
     ]
    },
    {
     "name": "stdout",
     "output_type": "stream",
     "text": [
      "('AUCROC', 0.6368055555555555)\n"
     ]
    },
    {
     "name": "stderr",
     "output_type": "stream",
     "text": [
      "/home/byrd106/anaconda3/lib/python3.7/site-packages/xgboost/core.py:587: FutureWarning: Series.base is deprecated and will be removed in a future version\n",
      "  if getattr(data, 'base', None) is not None and \\\n"
     ]
    },
    {
     "name": "stdout",
     "output_type": "stream",
     "text": [
      "('AUCROC', 0.6594254510921177)\n"
     ]
    },
    {
     "name": "stderr",
     "output_type": "stream",
     "text": [
      "/home/byrd106/anaconda3/lib/python3.7/site-packages/xgboost/core.py:587: FutureWarning: Series.base is deprecated and will be removed in a future version\n",
      "  if getattr(data, 'base', None) is not None and \\\n"
     ]
    },
    {
     "name": "stdout",
     "output_type": "stream",
     "text": [
      "('AUCROC', 0.6390191897654585)\n",
      "\n",
      "AVG AUC-ROC 0.6458987809745709\n"
     ]
    }
   ],
   "source": [
    "from ProteinGraphML.MLTools.Models import XGBoostModel\n",
    "\n",
    "#note, there are built in apis which work with Scikit cross validation- this is TODO\n",
    "\n",
    "# this version works as well, we split the data with 10 random folds: 80% of data as train... 20% as test \n",
    "\n",
    "ROC = 0.\n",
    "CROSSVAL = 10 # 10 \n",
    "for k in range(0,CROSSVAL):\n",
    "    # get a split.... train the model\n",
    "\n",
    "    # train is first 80% of data, test is other 20% ... note the \"Data\" object handles labels etc\n",
    "    train,test = d.splitSet(0.8) # lets get a ROC result\n",
    "\n",
    "    # make a new model\n",
    "    newModel = XGBoostModel() \n",
    "    \n",
    "    #newModel.m  -> accces the XGBOOST api directly \n",
    "    \n",
    "    newModel.train(train,param)\n",
    "   \n",
    "    \n",
    "    rocResult = newModel.predict(test,[\"roc\"]) # current work on expanding the list of resutls here...\n",
    "    rocResult.printOutput() # prints ROC, and adds for average \n",
    "    ROC+=rocResult.data\n",
    "\n",
    "    # this can do the feature importance as well, but working on adding support here first\n",
    "    #importance = modelRepo.m.get_score(importance_type='gain')\n",
    "    #ECGimportanceSet.append(importance)\n",
    "    \n",
    "\n",
    "print(\"\")    \n",
    "print(\"AVG AUC-ROC\",ROC/CROSSVAL)\n",
    "\n"
   ]
  },
  {
   "cell_type": "code",
   "execution_count": null,
   "metadata": {},
   "outputs": [],
   "source": []
  }
 ],
 "metadata": {
  "kernelspec": {
   "display_name": "Python 3",
   "language": "python",
   "name": "python3"
  },
  "language_info": {
   "codemirror_mode": {
    "name": "ipython",
    "version": 3
   },
   "file_extension": ".py",
   "mimetype": "text/x-python",
   "name": "python",
   "nbconvert_exporter": "python",
   "pygments_lexer": "ipython3",
   "version": "3.7.3"
  }
 },
 "nbformat": 4,
 "nbformat_minor": 2
}
