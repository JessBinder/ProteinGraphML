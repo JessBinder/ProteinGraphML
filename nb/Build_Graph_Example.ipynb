{
 "cells": [
  {
   "cell_type": "markdown",
   "metadata": {},
   "source": [
    "# Create a Protein Disease graph from the DB adapter 'OlegDB'"
   ]
  },
  {
   "cell_type": "code",
   "execution_count": null,
   "metadata": {},
   "outputs": [],
   "source": [
    "from ProteinGraphML.DataAdapter import OlegDB\n",
    "from ProteinGraphML.GraphTools import ProteinDiseaseAssociationGraph"
   ]
  },
  {
   "cell_type": "markdown",
   "metadata": {},
   "source": [
    "## we construct a base map of protein to disease just by creating the ProteinDiseaseAssociationGraph"
   ]
  },
  {
   "cell_type": "code",
   "execution_count": null,
   "metadata": {},
   "outputs": [],
   "source": [
    "dbAdapter = OlegDB()\n",
    "\n",
    "proteinGraph = ProteinDiseaseAssociationGraph(dbAdapter)"
   ]
  },
  {
   "cell_type": "markdown",
   "metadata": {},
   "source": [
    "## the 'ProteinDiseaseAssociationGraph' object has helper methods, but we can also access the networkx graph directly it is created with:"
   ]
  },
  {
   "cell_type": "code",
   "execution_count": null,
   "metadata": {
    "collapsed": true
   },
   "outputs": [],
   "source": [
    "len(proteinGraph.graph.nodes)"
   ]
  },
  {
   "cell_type": "markdown",
   "metadata": {},
   "source": [
    "## we will want to filter by the proteins we are interested in, this list comes from a DB adapter, but any set will do"
   ]
  },
  {
   "cell_type": "code",
   "execution_count": null,
   "metadata": {},
   "outputs": [],
   "source": [
    "\n",
    "proteins = dbAdapter.loadTotalProteinList().protein_id\n",
    "filterByProteins = set(proteins) # NOTE this is just a list of protein IDS"
   ]
  },
  {
   "cell_type": "markdown",
   "metadata": {},
   "source": [
    "using .attach will add edges from a DB as defined by the adapter, \n",
    "with this method we can create a graph of data, which can itself be saved, prevents the need from \n",
    "rebuilding as we work on different diseases, perform analysis\n",
    "\n",
    "We've also filter by proteins we care about, in this case it is our original list \n",
    "\n",
    "___NOTE THIS CELL TAKES A FEW MINUTES___"
   ]
  },
  {
   "cell_type": "code",
   "execution_count": null,
   "metadata": {},
   "outputs": [],
   "source": [
    "proteinGraph.attach(dbAdapter.loadPPI(filterByProteins))\n",
    "proteinGraph.attach(dbAdapter.loadKegg(filterByProteins)) \n",
    "proteinGraph.attach(dbAdapter.loadReactome(filterByProteins)) \n",
    "proteinGraph.attach(dbAdapter.loadInterpro(filterByProteins))\n",
    "proteinGraph.attach(dbAdapter.loadGo(filterByProteins))"
   ]
  },
  {
   "cell_type": "markdown",
   "metadata": {},
   "source": [
    "networkx provides an api we can nodes from \n",
    "\n",
    "* here i exploit the unique features of each node to count them\n",
    "* we can get a count of the nodes in the current graph"
   ]
  },
  {
   "cell_type": "code",
   "execution_count": null,
   "metadata": {},
   "outputs": [],
   "source": [
    "keggNodes = [g for g in list(proteinGraph.graph.nodes) if isinstance(g,str) and g[0:3] == \"hsa\"] # compute node lists\n",
    "reactome = [r for r in list(proteinGraph.graph.nodes) if isinstance(r,str) and r[0:2] == \"R-\"]\n",
    "goNodes = [go for go in list(proteinGraph.graph.nodes) if isinstance(go,str) and go[0:3] == \"GO:\"]\n",
    "interNodes = [inter for inter in list(proteinGraph.graph.nodes) if isinstance(inter,str) and inter[0:3] == \"IPR\"]\n",
    "\n",
    "\n",
    "print(\"KEGG\",len(keggNodes))\n",
    "print(\"REACT\",len(reactome))\n",
    "print(\"GO\",len(goNodes))\n",
    "print(\"INTERP\",len(interNodes))"
   ]
  },
  {
   "cell_type": "code",
   "execution_count": null,
   "metadata": {},
   "outputs": [],
   "source": [
    "# this will save our graph\n",
    "proteinGraph.save(\"CURRENT_GRAPH\")"
   ]
  },
  {
   "cell_type": "code",
   "execution_count": null,
   "metadata": {},
   "outputs": [],
   "source": []
  }
 ],
 "metadata": {
  "kernelspec": {
   "display_name": "Python 3.6",
   "language": "python",
   "name": "python_3.6"
  },
  "language_info": {
   "codemirror_mode": {
    "name": "ipython",
    "version": 3
   },
   "file_extension": ".py",
   "mimetype": "text/x-python",
   "name": "python",
   "nbconvert_exporter": "python",
   "pygments_lexer": "ipython3",
   "version": "3.7.1"
  }
 },
 "nbformat": 4,
 "nbformat_minor": 2
}
